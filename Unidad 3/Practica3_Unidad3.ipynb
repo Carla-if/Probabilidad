{
  "nbformat": 4,
  "nbformat_minor": 0,
  "metadata": {
    "colab": {
      "provenance": [],
      "authorship_tag": "ABX9TyPqZwb5ijHEDU7S1OntlU+j",
      "include_colab_link": true
    },
    "kernelspec": {
      "name": "python3",
      "display_name": "Python 3"
    },
    "language_info": {
      "name": "python"
    }
  },
  "cells": [
    {
      "cell_type": "markdown",
      "metadata": {
        "id": "view-in-github",
        "colab_type": "text"
      },
      "source": [
        "<a href=\"https://colab.research.google.com/github/Carla-if/Probabilidad/blob/main/Unidad%203/Practica3_Unidad3.ipynb\" target=\"_parent\"><img src=\"https://colab.research.google.com/assets/colab-badge.svg\" alt=\"Open In Colab\"/></a>"
      ]
    },
    {
      "cell_type": "markdown",
      "source": [
        "![image](https://github.com/JoseGabriel-ITD/Probabilidad-y-Estadistica/blob/main/Cintilla2004.png?raw=true)\n",
        "\n",
        "# **Probabilidad y estadística**\n",
        "\n",
        "## Unidad 3\n",
        "\n",
        "### Varianza y desviacion estandar (ejemplo en Python)\n",
        "\n",
        "### Facilitador: *Dr. José Gabriel Rodríguez Rivas*\n",
        "\n",
        "### Alumno: Carla Iberia Carrillo Ferrer"
      ],
      "metadata": {
        "id": "_XBNvbbR5EEn"
      }
    },
    {
      "cell_type": "code",
      "execution_count": null,
      "metadata": {
        "id": "hQ0niFUFVHzC",
        "colab": {
          "base_uri": "https://localhost:8080/"
        },
        "outputId": "66c69374-7cf4-4871-fba2-1a44bcf2149b"
      },
      "outputs": [
        {
          "output_type": "stream",
          "name": "stdout",
          "text": [
            "E(X) = esperanza:.2f)\n",
            "E(X^2) = esperanza_ cuadrado:.2f)\n",
            "Varianza = (varianza:.2f]\n",
            "Desviación estándar = desviacion:.2fI\n"
          ]
        }
      ],
      "source": [
        "import math\n",
        "\n",
        "x= [5, 6, 7, 8, 9, 10]\n",
        "p= [0.05, 0.10, 0.20, 0.30, 0.25, 0.10]\n",
        "\n",
        "#Calcular E(X)\n",
        "esperanza = 0\n",
        "for i in range (len(x)):\n",
        "  esperanza +=x[i] * p[i]\n",
        "\n",
        "  # Calcular E(x^2)\n",
        "  esperanza_cuadrado = 0\n",
        "  for i in range(len(x)):\n",
        "    esperanza_cuadrado += (x[i] **2) * p[i]\n",
        "\n",
        "# Calcular varianza y desvidesviacion estandar\n",
        "varianza = esperanza_cuadrado - esperanza ** 2\n",
        "desviacion = math.sqrt(varianza)\n",
        "# Mostrar resultados\n",
        "print(f\"E(X) = esperanza:.2f)\")\n",
        "print(f\"E(X^2) = esperanza_ cuadrado:.2f)\")\n",
        "print(f\"Varianza = (varianza:.2f]\")\n",
        "print(f\"Desviación estándar = desviacion:.2fI\")\n"
      ]
    }
  ]
}