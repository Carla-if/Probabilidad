{
  "nbformat": 4,
  "nbformat_minor": 0,
  "metadata": {
    "colab": {
      "provenance": [],
      "authorship_tag": "ABX9TyN6XpFCVMwiH8MbLy/fU9+3",
      "include_colab_link": true
    },
    "kernelspec": {
      "name": "python3",
      "display_name": "Python 3"
    },
    "language_info": {
      "name": "python"
    }
  },
  "cells": [
    {
      "cell_type": "markdown",
      "metadata": {
        "id": "view-in-github",
        "colab_type": "text"
      },
      "source": [
        "<a href=\"https://colab.research.google.com/github/Carla-if/Probabilidad/blob/main/Unidad%203/Ejercicio1.ipynb\" target=\"_parent\"><img src=\"https://colab.research.google.com/assets/colab-badge.svg\" alt=\"Open In Colab\"/></a>"
      ]
    },
    {
      "cell_type": "markdown",
      "source": [
        "![image](https://github.com/JoseGabriel-ITD/Probabilidad-y-Estadistica/blob/main/Cintilla2004.png?raw=true)\n",
        "\n",
        "# **Probabilidad y estadística**\n",
        "\n",
        "## Unidad 3\n",
        "\n",
        "### Ejercicio 1. Celulas anormales\n",
        "\n",
        "### Facilitador: *Dr. José Gabriel Rodríguez Rivas*\n",
        "\n",
        "### Alumno: Carla Iberia Carrillo Ferrer"
      ],
      "metadata": {
        "id": "Lelyf4ZQzMo0"
      }
    },
    {
      "cell_type": "code",
      "execution_count": 10,
      "metadata": {
        "id": "mtBt7tDurys0"
      },
      "outputs": [],
      "source": [
        "import matplotlib.pyplot as plt\n",
        "import math\n",
        "import numpy as np"
      ]
    },
    {
      "cell_type": "code",
      "source": [
        "#Valores de la variable aleatoria\n",
        "x=[0,1,2,3,4,5]\n",
        "p=[0.10,0.25,0.30,0.20,0.10,0.05]\n",
        "\n",
        "#Verificar suma=1\n",
        "print(\"Suma de probabilidades:\",sum(p))"
      ],
      "metadata": {
        "colab": {
          "base_uri": "https://localhost:8080/"
        },
        "id": "KYQ212H9uPc7",
        "outputId": "7d418785-f482-4fbb-956a-3cc87345a7fe"
      },
      "execution_count": 6,
      "outputs": [
        {
          "output_type": "stream",
          "name": "stdout",
          "text": [
            "Suma de probabilidades: 1.0\n"
          ]
        }
      ]
    },
    {
      "cell_type": "code",
      "source": [
        "valor_esperado = 0\n",
        "for i in range(len(x)):\n",
        "  xi = x[i]\n",
        "  pi = p[i]\n",
        "  producto = xi * pi\n",
        "  valor_esperado += producto\n",
        "\n",
        "  print(f\"x = {xi}, p = {pi}, x*p = {producto:.2f}\")\n",
        "\n",
        "\n",
        "  print(f\"\\nValor esperado (Esperanza): {valor_esperado:.2f}\")"
      ],
      "metadata": {
        "colab": {
          "base_uri": "https://localhost:8080/"
        },
        "id": "cv8PtDDgvP46",
        "outputId": "9d5c1bf4-6642-498a-8036-c0e98a8be6a4"
      },
      "execution_count": 7,
      "outputs": [
        {
          "output_type": "stream",
          "name": "stdout",
          "text": [
            "x = 0, p = 0.1, x*p = 0.00\n",
            "\n",
            "Valor esperado (Esperanza): 0.00\n",
            "x = 1, p = 0.25, x*p = 0.25\n",
            "\n",
            "Valor esperado (Esperanza): 0.25\n",
            "x = 2, p = 0.3, x*p = 0.60\n",
            "\n",
            "Valor esperado (Esperanza): 0.85\n",
            "x = 3, p = 0.2, x*p = 0.60\n",
            "\n",
            "Valor esperado (Esperanza): 1.45\n",
            "x = 4, p = 0.1, x*p = 0.40\n",
            "\n",
            "Valor esperado (Esperanza): 1.85\n",
            "x = 5, p = 0.05, x*p = 0.25\n",
            "\n",
            "Valor esperado (Esperanza): 2.10\n"
          ]
        }
      ]
    },
    {
      "cell_type": "code",
      "source": [
        "esperanza = 0\n",
        "for i in range (len(x)):\n",
        "  esperanza +=x[i] * p[i]\n",
        "\n",
        "  esperanza_cuadrado = 0\n",
        "  for i in range(len(x)):\n",
        "    esperanza_cuadrado += (x[i] **2) * p[i]\n",
        "\n",
        "varianza = esperanza_cuadrado - esperanza ** 2\n",
        "desviacion = math.sqrt(varianza)\n",
        "# Mostrar resultados\n",
        "print(f\"E(X) = {esperanza:.2f}\")\n",
        "print(f\"E(X^2) = {esperanza_cuadrado:.2f}\")\n",
        "print(f\"Varianza = {varianza:.2f}\")\n",
        "print(f\"Desviación estándar = {desviacion:.2f}\")"
      ],
      "metadata": {
        "colab": {
          "base_uri": "https://localhost:8080/"
        },
        "id": "aJwZB3gWv6iL",
        "outputId": "3afbfcba-d213-4e43-cb4d-a35e2fee93e2"
      },
      "execution_count": 9,
      "outputs": [
        {
          "output_type": "stream",
          "name": "stdout",
          "text": [
            "E(X) = 2.10\n",
            "E(X^2) = 6.10\n",
            "Varianza = 1.69\n",
            "Desviación estándar = 1.30\n"
          ]
        }
      ]
    },
    {
      "cell_type": "code",
      "source": [
        "# Calcular la funcion acumulada\n",
        "F = np.cumsum(p)\n",
        "\n",
        "#Mostrar resultados\n",
        "for xi, fi in zip(x, F):\n",
        "    print(f\"F({xi}) = {fi:.2f}\")\n",
        "\n",
        "# Graficar\n",
        "plt.step(x, F, where='post')\n",
        "plt.title('Función de Distribución Acumulada (FDA)')\n",
        "plt.xlabel(\"Numero de celulas anormales\")\n",
        "plt.ylabel(\"Probabilidad acumulada\")\n",
        "plt.grid(True)\n",
        "plt.ylim(0, 1.05)\n",
        "plt.show()"
      ],
      "metadata": {
        "colab": {
          "base_uri": "https://localhost:8080/",
          "height": 576
        },
        "id": "BpDk5CSJxuVe",
        "outputId": "309e482f-632a-4ebc-e1ef-f8aeb0849d45"
      },
      "execution_count": 13,
      "outputs": [
        {
          "output_type": "stream",
          "name": "stdout",
          "text": [
            "F(0) = 0.10\n",
            "F(1) = 0.35\n",
            "F(2) = 0.65\n",
            "F(3) = 0.85\n",
            "F(4) = 0.95\n",
            "F(5) = 1.00\n"
          ]
        },
        {
          "output_type": "display_data",
          "data": {
            "text/plain": [
              "<Figure size 640x480 with 1 Axes>"
            ],
            "image/png": "[encoded data removed]"
          },
          "metadata": {}
        }
      ]
    }
  ]
}